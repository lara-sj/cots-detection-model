{
  "cells": [
    {
      "cell_type": "markdown",
      "metadata": {
        "id": "view-in-github",
        "colab_type": "text"
      },
      "source": [
        "<a href=\"https://colab.research.google.com/github/lara-sj/cots-detection-model/blob/main/GBR_training.ipynb\" target=\"_parent\"><img src=\"https://colab.research.google.com/assets/colab-badge.svg\" alt=\"Open In Colab\"/></a>"
      ]
    },
    {
      "cell_type": "code",
      "execution_count": null,
      "metadata": {
        "id": "q9UAFWGB4wZH"
      },
      "outputs": [],
      "source": [
        "import os \n",
        "import cv2\n",
        "import ast\n",
        "import glob\n",
        "import torch\n",
        "import importlib\n",
        "import traceback\n",
        "import numpy as np\n",
        "import pandas as pd\n",
        "import matplotlib.pyplot as plt\n",
        "\n",
        "from tqdm.notebook import tqdm\n",
        "tqdm.pandas()\n",
        "\n",
        "import shutil\n",
        "import sys\n",
        "#sys.path.append('../input/tensortflow-great-barrier-reef')\n",
        "\n",
        "from PIL import Image\n",
        "from IPython.display import display"
      ]
    },
    {
      "cell_type": "code",
      "execution_count": null,
      "metadata": {
        "colab": {
          "base_uri": "https://localhost:8080/"
        },
        "id": "UWPKNe1S5Z-B",
        "outputId": "eec2aacf-f8ad-4253-9fc1-24f1e5612b39"
      },
      "outputs": [
        {
          "name": "stdout",
          "output_type": "stream",
          "text": [
            "Mounted at /content/drive\n"
          ]
        }
      ],
      "source": [
        "from google.colab import drive\n",
        "drive.mount('/content/drive')"
      ]
    },
    {
      "cell_type": "code",
      "execution_count": null,
      "metadata": {
        "colab": {
          "base_uri": "https://localhost:8080/"
        },
        "id": "VgKiVUPFn-y9",
        "outputId": "af49eaa5-7e64-4495-a909-1799f4ff87a0"
      },
      "outputs": [
        {
          "name": "stdout",
          "output_type": "stream",
          "text": [
            "Mounted at /content/drive\n"
          ]
        }
      ],
      "source": [
        "#drive.mount(\"/content/drive\", force_remount=True)"
      ]
    },
    {
      "cell_type": "code",
      "execution_count": null,
      "metadata": {
        "id": "jKIQxSN15egg"
      },
      "outputs": [],
      "source": [
        "TRAIN_IMAGES = '/content/drive/MyDrive/great_barrier_reef/train/images'\n",
        "TRAIN_LABELS = '/content/drive/MyDrive/great_barrier_reef/train/labels'\n",
        "\n",
        "VALID_IMAGES = '/content/drive/MyDrive/great_barrier_reef/valid/images'\n",
        "VALID_LABELS = '/content/drive/MyDrive/great_barrier_reef/valid/labels'"
      ]
    },
    {
      "cell_type": "code",
      "execution_count": null,
      "metadata": {
        "colab": {
          "base_uri": "https://localhost:8080/"
        },
        "id": "66t2miOQ5sDi",
        "outputId": "11650177-3ea0-4cbf-de73-ff28aa9a47a3"
      },
      "outputs": [
        {
          "name": "stdout",
          "output_type": "stream",
          "text": [
            "/content/drive/MyDrive/great_barrier_reef\n"
          ]
        }
      ],
      "source": [
        "%cd /content/drive/MyDrive/great_barrier_reef\n",
        "#!git clone https://github.com/ultralytics/yolov5.git"
      ]
    },
    {
      "cell_type": "code",
      "execution_count": null,
      "metadata": {
        "colab": {
          "base_uri": "https://localhost:8080/"
        },
        "id": "h41_Ygov5yQ8",
        "outputId": "8c8c040a-10f8-48b0-acb1-d0a6732a8622"
      },
      "outputs": [
        {
          "name": "stdout",
          "output_type": "stream",
          "text": [
            "/content/drive/MyDrive/great_barrier_reef/yolov5\n"
          ]
        }
      ],
      "source": [
        "%cd yolov5"
      ]
    },
    {
      "cell_type": "code",
      "execution_count": null,
      "metadata": {
        "id": "A2X9vcyuKfOz"
      },
      "outputs": [],
      "source": [
        "hyps = '''\n",
        "# YOLOv5 by Ultralytics, GPL-3.0 license\n",
        "# Hyperparameters for COCO training from scratch\n",
        "# python train.py --batch 40 --cfg yolov5m.yaml --weights '' --data coco.yaml --img 640 --epochs 300\n",
        "# See tutorials for hyperparameter evolution https://github.com/ultralytics/yolov5#tutorials\n",
        "\n",
        "lr0: 0.01  # initial learning rate (SGD=1E-2, Adam=1E-3) #####learning rate\n",
        "lrf: 0.1  # final OneCycleLR learning rate (lr0 * lrf)\n",
        "momentum: 0.937  # SGD momentum/Adam beta1\n",
        "weight_decay: 0.0005  # optimizer weight decay 5e-4\n",
        "warmup_epochs: 3.0  # warmup epochs (fractions ok)\n",
        "warmup_momentum: 0.8  # warmup initial momentum\n",
        "warmup_bias_lr: 0.1  # warmup initial bias lr\n",
        "box: 0.05  # box loss gain\n",
        "cls: 0.5  # cls loss gain\n",
        "cls_pw: 1.0  # cls BCELoss positive_weight\n",
        "obj: 1.0  # obj loss gain (scale with pixels)\n",
        "obj_pw: 1.0  # obj BCELoss positive_weight\n",
        "iou_t: 0.20  # IoU training threshold\n",
        "anchor_t: 4.0  # anchor-multiple threshold\n",
        "anchors: 0  # anchors per output layer (0 to ignore)\n",
        "fl_gamma: 0.0  # focal loss gamma (efficientDet default gamma=1.5)\n",
        "hsv_h: 0.015  # image HSV-Hue augmentation (fraction) #####aug\n",
        "hsv_s: 0.7  # image HSV-Saturation augmentation (fraction) #####aug\n",
        "hsv_v: 0.4  # image HSV-Value augmentation (fraction) #####aug\n",
        "degrees: 0.0  # image rotation (+/- deg).  #####aug\n",
        "translate: 0.1  # image translation (+/- fraction).  #####aug\n",
        "scale: 0.5  # image scale (+/- gain). #####aug\n",
        "shear: 0.0  # image shear (+/- deg).  #####aug\n",
        "perspective: 0.0  # image perspective (+/- fraction), range 0-0.001 #####aug\n",
        "flipud: 0.5  # image flip up-down (probability) #####aug\n",
        "fliplr: 0.5  # image flip left-right (probability) #####aug\n",
        "mosaic: 1.0  # image mosaic (probability) #####aug\n",
        "mixup: 0.5  # image mixup (probability)\n",
        "copy_paste: 0.0  # segment copy-paste (probability)\n",
        "'''"
      ]
    },
    {
      "cell_type": "code",
      "execution_count": null,
      "metadata": {
        "id": "EBIlKLXeSJL9"
      },
      "outputs": [],
      "source": [
        "data = '''\n",
        "\n",
        "train: /content/drive/MyDrive/great_barrier_reef/train/images  # train images\n",
        "val: /content/drive/MyDrive/great_barrier_reef/valid/images  # val images \n",
        "test:  # test images (optional)\n",
        "\n",
        "# Classes\n",
        "nc: 1  # number of classes\n",
        "names: ['cots']  # class names\n",
        "\n",
        "'''"
      ]
    },
    {
      "cell_type": "code",
      "execution_count": null,
      "metadata": {
        "id": "xpN-KJL9S3bj"
      },
      "outputs": [],
      "source": [
        "with open('/content/drive/MyDrive/great_barrier_reef/yolov5/data/gbr_data.yaml', 'w') as fp:\n",
        "    fp.write(data)\n",
        "with open('/content/drive/MyDrive/great_barrier_reef/yolov5/data/hyps/gbr_hyps.yaml', 'w') as fp:\n",
        "    fp.write(hyps)"
      ]
    },
    {
      "cell_type": "code",
      "execution_count": null,
      "metadata": {
        "colab": {
          "base_uri": "https://localhost:8080/"
        },
        "id": "TUSOHXPL7S5A",
        "outputId": "29c0d01f-eca5-4434-c272-9a3dc3c55c32"
      },
      "outputs": [
        {
          "name": "stdout",
          "output_type": "stream",
          "text": [
            "\u001b[K     |████████████████████████████████| 1.7 MB 7.5 MB/s \n",
            "\u001b[K     |████████████████████████████████| 181 kB 67.0 MB/s \n",
            "\u001b[K     |████████████████████████████████| 144 kB 68.7 MB/s \n",
            "\u001b[K     |████████████████████████████████| 63 kB 2.0 MB/s \n",
            "\u001b[?25h  Building wheel for pathtools (setup.py) ... \u001b[?25l\u001b[?25hdone\n"
          ]
        }
      ],
      "source": [
        "!pip install wandb -qqq\n",
        "import wandb"
      ]
    },
    {
      "cell_type": "code",
      "execution_count": null,
      "metadata": {
        "colab": {
          "base_uri": "https://localhost:8080/",
          "height": 70
        },
        "id": "UlUSxvgS7TrB",
        "outputId": "00431460-48af-4aaf-aa2c-3e8c14fd3318"
      },
      "outputs": [
        {
          "data": {
            "application/javascript": [
              "\n",
              "        window._wandbApiKey = new Promise((resolve, reject) => {\n",
              "            function loadScript(url) {\n",
              "            return new Promise(function(resolve, reject) {\n",
              "                let newScript = document.createElement(\"script\");\n",
              "                newScript.onerror = reject;\n",
              "                newScript.onload = resolve;\n",
              "                document.body.appendChild(newScript);\n",
              "                newScript.src = url;\n",
              "            });\n",
              "            }\n",
              "            loadScript(\"https://cdn.jsdelivr.net/npm/postmate/build/postmate.min.js\").then(() => {\n",
              "            const iframe = document.createElement('iframe')\n",
              "            iframe.style.cssText = \"width:0;height:0;border:none\"\n",
              "            document.body.appendChild(iframe)\n",
              "            const handshake = new Postmate({\n",
              "                container: iframe,\n",
              "                url: 'https://wandb.ai/authorize'\n",
              "            });\n",
              "            const timeout = setTimeout(() => reject(\"Couldn't auto authenticate\"), 5000)\n",
              "            handshake.then(function(child) {\n",
              "                child.on('authorize', data => {\n",
              "                    clearTimeout(timeout)\n",
              "                    resolve(data)\n",
              "                });\n",
              "            });\n",
              "            })\n",
              "        });\n",
              "    "
            ],
            "text/plain": [
              "<IPython.core.display.Javascript object>"
            ]
          },
          "metadata": {},
          "output_type": "display_data"
        },
        {
          "name": "stderr",
          "output_type": "stream",
          "text": [
            "\u001b[34m\u001b[1mwandb\u001b[0m: Appending key for api.wandb.ai to your netrc file: /root/.netrc\n"
          ]
        },
        {
          "data": {
            "text/plain": [
              "True"
            ]
          },
          "execution_count": 10,
          "metadata": {},
          "output_type": "execute_result"
        }
      ],
      "source": [
        "wandb.login()"
      ]
    },
    {
      "cell_type": "code",
      "execution_count": null,
      "metadata": {
        "colab": {
          "base_uri": "https://localhost:8080/",
          "height": 472
        },
        "id": "xkmwNb1S7WIj",
        "outputId": "387f8595-96d9-4a6a-d120-d1ff6b419c0c"
      },
      "outputs": [
        {
          "name": "stderr",
          "output_type": "stream",
          "text": [
            "\u001b[34m\u001b[1mwandb\u001b[0m: Currently logged in as: \u001b[33mlara-sj\u001b[0m (use `wandb login --relogin` to force relogin)\n"
          ]
        },
        {
          "data": {
            "text/html": [
              "\n",
              "                    Syncing run <strong><a href=\"https://wandb.ai/lara-sj/great-barrier-reef/runs/21eelj1q\" target=\"_blank\">genial-flower-18</a></strong> to <a href=\"https://wandb.ai/lara-sj/great-barrier-reef\" target=\"_blank\">Weights & Biases</a> (<a href=\"https://docs.wandb.com/integrations/jupyter.html\" target=\"_blank\">docs</a>).<br/>\n",
              "\n",
              "                "
            ],
            "text/plain": [
              "<IPython.core.display.HTML object>"
            ]
          },
          "metadata": {},
          "output_type": "display_data"
        },
        {
          "data": {
            "text/html": [
              "<button onClick=\"this.nextSibling.style.display='block';this.style.display='none';\">Display W&B run</button><iframe src=\"https://wandb.ai/lara-sj/great-barrier-reef/runs/21eelj1q?jupyter=true\" style=\"border:none;width:100%;height:420px;display:none;\"></iframe>"
            ],
            "text/plain": [
              "<wandb.sdk.wandb_run.Run at 0x7fb78bd18ed0>"
            ]
          },
          "execution_count": 11,
          "metadata": {},
          "output_type": "execute_result"
        }
      ],
      "source": [
        "wandb.init(project=\"great-barrier-reef\", entity=\"lara-sj\")"
      ]
    },
    {
      "cell_type": "code",
      "execution_count": null,
      "metadata": {
        "id": "yBxScp8Z7aES"
      },
      "outputs": [],
      "source": [
        "FOLD = 1\n",
        "DIM = 1440\n",
        "MODEL = 'yolov5s'\n",
        "BATCH = 16\n",
        "EPOCHS = 300\n",
        "OPTIMIZER = 'Adam'\n",
        "NAME = f'{MODEL}-dim{DIM}-fold{FOLD}'\n",
        "PROJECT   = 'great-barrier-reef'"
      ]
    },
    {
      "cell_type": "code",
      "execution_count": null,
      "metadata": {
        "colab": {
          "base_uri": "https://localhost:8080/",
          "height": 1000
        },
        "id": "H8y_4B1e7gWZ",
        "outputId": "16df63c7-e4d2-459a-b662-9aa73e13ed60"
      },
      "outputs": [
        {
          "name": "stdout",
          "output_type": "stream",
          "text": [
            "Collecting PyYAML==5.4.1\n",
            "  Downloading PyYAML-5.4.1-cp37-cp37m-manylinux1_x86_64.whl (636 kB)\n",
            "\u001b[?25l\r\u001b[K     |▌                               | 10 kB 29.3 MB/s eta 0:00:01\r\u001b[K     |█                               | 20 kB 21.0 MB/s eta 0:00:01\r\u001b[K     |█▌                              | 30 kB 16.9 MB/s eta 0:00:01\r\u001b[K     |██                              | 40 kB 15.2 MB/s eta 0:00:01\r\u001b[K     |██▋                             | 51 kB 7.9 MB/s eta 0:00:01\r\u001b[K     |███                             | 61 kB 9.3 MB/s eta 0:00:01\r\u001b[K     |███▋                            | 71 kB 10.4 MB/s eta 0:00:01\r\u001b[K     |████▏                           | 81 kB 9.6 MB/s eta 0:00:01\r\u001b[K     |████▋                           | 92 kB 10.6 MB/s eta 0:00:01\r\u001b[K     |█████▏                          | 102 kB 8.9 MB/s eta 0:00:01\r\u001b[K     |█████▋                          | 112 kB 8.9 MB/s eta 0:00:01\r\u001b[K     |██████▏                         | 122 kB 8.9 MB/s eta 0:00:01\r\u001b[K     |██████▊                         | 133 kB 8.9 MB/s eta 0:00:01\r\u001b[K     |███████▏                        | 143 kB 8.9 MB/s eta 0:00:01\r\u001b[K     |███████▊                        | 153 kB 8.9 MB/s eta 0:00:01\r\u001b[K     |████████▎                       | 163 kB 8.9 MB/s eta 0:00:01\r\u001b[K     |████████▊                       | 174 kB 8.9 MB/s eta 0:00:01\r\u001b[K     |█████████▎                      | 184 kB 8.9 MB/s eta 0:00:01\r\u001b[K     |█████████▉                      | 194 kB 8.9 MB/s eta 0:00:01\r\u001b[K     |██████████▎                     | 204 kB 8.9 MB/s eta 0:00:01\r\u001b[K     |██████████▉                     | 215 kB 8.9 MB/s eta 0:00:01\r\u001b[K     |███████████▎                    | 225 kB 8.9 MB/s eta 0:00:01\r\u001b[K     |███████████▉                    | 235 kB 8.9 MB/s eta 0:00:01\r\u001b[K     |████████████▍                   | 245 kB 8.9 MB/s eta 0:00:01\r\u001b[K     |████████████▉                   | 256 kB 8.9 MB/s eta 0:00:01\r\u001b[K     |█████████████▍                  | 266 kB 8.9 MB/s eta 0:00:01\r\u001b[K     |██████████████                  | 276 kB 8.9 MB/s eta 0:00:01\r\u001b[K     |██████████████▍                 | 286 kB 8.9 MB/s eta 0:00:01\r\u001b[K     |███████████████                 | 296 kB 8.9 MB/s eta 0:00:01\r\u001b[K     |███████████████▍                | 307 kB 8.9 MB/s eta 0:00:01\r\u001b[K     |████████████████                | 317 kB 8.9 MB/s eta 0:00:01\r\u001b[K     |████████████████▌               | 327 kB 8.9 MB/s eta 0:00:01\r\u001b[K     |█████████████████               | 337 kB 8.9 MB/s eta 0:00:01\r\u001b[K     |█████████████████▌              | 348 kB 8.9 MB/s eta 0:00:01\r\u001b[K     |██████████████████              | 358 kB 8.9 MB/s eta 0:00:01\r\u001b[K     |██████████████████▌             | 368 kB 8.9 MB/s eta 0:00:01\r\u001b[K     |███████████████████             | 378 kB 8.9 MB/s eta 0:00:01\r\u001b[K     |███████████████████▋            | 389 kB 8.9 MB/s eta 0:00:01\r\u001b[K     |████████████████████            | 399 kB 8.9 MB/s eta 0:00:01\r\u001b[K     |████████████████████▋           | 409 kB 8.9 MB/s eta 0:00:01\r\u001b[K     |█████████████████████           | 419 kB 8.9 MB/s eta 0:00:01\r\u001b[K     |█████████████████████▋          | 430 kB 8.9 MB/s eta 0:00:01\r\u001b[K     |██████████████████████▏         | 440 kB 8.9 MB/s eta 0:00:01\r\u001b[K     |██████████████████████▋         | 450 kB 8.9 MB/s eta 0:00:01\r\u001b[K     |███████████████████████▏        | 460 kB 8.9 MB/s eta 0:00:01\r\u001b[K     |███████████████████████▊        | 471 kB 8.9 MB/s eta 0:00:01\r\u001b[K     |████████████████████████▏       | 481 kB 8.9 MB/s eta 0:00:01\r\u001b[K     |████████████████████████▊       | 491 kB 8.9 MB/s eta 0:00:01\r\u001b[K     |█████████████████████████▏      | 501 kB 8.9 MB/s eta 0:00:01\r\u001b[K     |█████████████████████████▊      | 512 kB 8.9 MB/s eta 0:00:01\r\u001b[K     |██████████████████████████▎     | 522 kB 8.9 MB/s eta 0:00:01\r\u001b[K     |██████████████████████████▊     | 532 kB 8.9 MB/s eta 0:00:01\r\u001b[K     |███████████████████████████▎    | 542 kB 8.9 MB/s eta 0:00:01\r\u001b[K     |███████████████████████████▉    | 552 kB 8.9 MB/s eta 0:00:01\r\u001b[K     |████████████████████████████▎   | 563 kB 8.9 MB/s eta 0:00:01\r\u001b[K     |████████████████████████████▉   | 573 kB 8.9 MB/s eta 0:00:01\r\u001b[K     |█████████████████████████████▍  | 583 kB 8.9 MB/s eta 0:00:01\r\u001b[K     |█████████████████████████████▉  | 593 kB 8.9 MB/s eta 0:00:01\r\u001b[K     |██████████████████████████████▍ | 604 kB 8.9 MB/s eta 0:00:01\r\u001b[K     |██████████████████████████████▉ | 614 kB 8.9 MB/s eta 0:00:01\r\u001b[K     |███████████████████████████████▍| 624 kB 8.9 MB/s eta 0:00:01\r\u001b[K     |████████████████████████████████| 634 kB 8.9 MB/s eta 0:00:01\r\u001b[K     |████████████████████████████████| 636 kB 8.9 MB/s \n",
            "\u001b[?25hInstalling collected packages: PyYAML\n",
            "  Attempting uninstall: PyYAML\n",
            "    Found existing installation: PyYAML 3.13\n",
            "    Uninstalling PyYAML-3.13:\n",
            "      Successfully uninstalled PyYAML-3.13\n",
            "Successfully installed PyYAML-5.4.1\n"
          ]
        },
        {
          "data": {
            "application/vnd.colab-display-data+json": {
              "pip_warning": {
                "packages": [
                  "yaml"
                ]
              }
            }
          },
          "metadata": {},
          "output_type": "display_data"
        },
        {
          "name": "stdout",
          "output_type": "stream",
          "text": [
            "Downloading https://ultralytics.com/assets/Arial.ttf to /root/.config/Ultralytics/Arial.ttf...\n",
            "\u001b[34m\u001b[1mwandb\u001b[0m: Currently logged in as: \u001b[33mlara-sj\u001b[0m (use `wandb login --relogin` to force relogin)\n",
            "\u001b[34m\u001b[1mtrain: \u001b[0mweights=yolov5s, cfg=yolov5s.yaml, data=/content/drive/MyDrive/great_barrier_reef/yolov5/data/gbr_data.yaml, hyp=/content/drive/MyDrive/great_barrier_reef/yolov5/data/hyps/gbr_hyps.yaml, epochs=300, batch_size=16, imgsz=1440, rect=False, resume=False, nosave=False, noval=False, noautoanchor=False, evolve=None, bucket=, cache=None, image_weights=False, device=, multi_scale=False, single_cls=False, optimizer=Adam, sync_bn=False, workers=8, project=runs/train, name=exp, exist_ok=False, quad=False, linear_lr=False, label_smoothing=0.0, patience=100, freeze=[0], save_period=-1, local_rank=-1, entity=None, upload_dataset=False, bbox_interval=-1, artifact_alias=latest\n",
            "Command 'git fetch && git config --get remote.origin.url' timed out after 5 seconds\n",
            "YOLOv5 🚀 v6.0-248-gcb2ad9f torch 1.10.0+cu111 CUDA:0 (Tesla P100-PCIE-16GB, 16281MiB)\n",
            "\n",
            "\u001b[34m\u001b[1mhyperparameters: \u001b[0mlr0=0.01, lrf=0.1, momentum=0.937, weight_decay=0.0005, warmup_epochs=3.0, warmup_momentum=0.8, warmup_bias_lr=0.1, box=0.05, cls=0.5, cls_pw=1.0, obj=1.0, obj_pw=1.0, iou_t=0.2, anchor_t=4.0, anchors=0, fl_gamma=0.0, hsv_h=0.015, hsv_s=0.7, hsv_v=0.4, degrees=0.0, translate=0.1, scale=0.5, shear=0.0, perspective=0.0, flipud=0.5, fliplr=0.5, mosaic=1.0, mixup=0.5, copy_paste=0.0\n",
            "\u001b[34m\u001b[1mTensorBoard: \u001b[0mStart with 'tensorboard --logdir runs/train', view at http://localhost:6006/\n",
            "\u001b[34m\u001b[1mwandb\u001b[0m: Tracking run with wandb version 0.12.10\n",
            "\u001b[34m\u001b[1mwandb\u001b[0m: Syncing run \u001b[33mfast-sky-35\u001b[0m\n",
            "\u001b[34m\u001b[1mwandb\u001b[0m: ⭐️ View project at \u001b[34m\u001b[4mhttps://wandb.ai/lara-sj/YOLOv5\u001b[0m\n",
            "\u001b[34m\u001b[1mwandb\u001b[0m: 🚀 View run at \u001b[34m\u001b[4mhttps://wandb.ai/lara-sj/YOLOv5/runs/2a7s1b5y\u001b[0m\n",
            "\u001b[34m\u001b[1mwandb\u001b[0m: Run data is saved locally in /content/drive/MyDrive/great_barrier_reef/yolov5/wandb/run-20220221_101726-2a7s1b5y\n",
            "\u001b[34m\u001b[1mwandb\u001b[0m: Run `wandb offline` to turn off syncing.\n",
            "\n",
            "Overriding model.yaml nc=80 with nc=1\n",
            "\n",
            "                 from  n    params  module                                  arguments                     \n",
            "  0                -1  1      3520  models.common.Conv                      [3, 32, 6, 2, 2]              \n",
            "  1                -1  1     18560  models.common.Conv                      [32, 64, 3, 2]                \n",
            "  2                -1  1     18816  models.common.C3                        [64, 64, 1]                   \n",
            "  3                -1  1     73984  models.common.Conv                      [64, 128, 3, 2]               \n",
            "  4                -1  2    115712  models.common.C3                        [128, 128, 2]                 \n",
            "  5                -1  1    295424  models.common.Conv                      [128, 256, 3, 2]              \n",
            "  6                -1  3    625152  models.common.C3                        [256, 256, 3]                 \n",
            "  7                -1  1   1180672  models.common.Conv                      [256, 512, 3, 2]              \n",
            "  8                -1  1   1182720  models.common.C3                        [512, 512, 1]                 \n",
            "  9                -1  1    656896  models.common.SPPF                      [512, 512, 5]                 \n",
            " 10                -1  1    131584  models.common.Conv                      [512, 256, 1, 1]              \n",
            " 11                -1  1         0  torch.nn.modules.upsampling.Upsample    [None, 2, 'nearest']          \n",
            " 12           [-1, 6]  1         0  models.common.Concat                    [1]                           \n",
            " 13                -1  1    361984  models.common.C3                        [512, 256, 1, False]          \n",
            " 14                -1  1     33024  models.common.Conv                      [256, 128, 1, 1]              \n",
            " 15                -1  1         0  torch.nn.modules.upsampling.Upsample    [None, 2, 'nearest']          \n",
            " 16           [-1, 4]  1         0  models.common.Concat                    [1]                           \n",
            " 17                -1  1     90880  models.common.C3                        [256, 128, 1, False]          \n",
            " 18                -1  1    147712  models.common.Conv                      [128, 128, 3, 2]              \n",
            " 19          [-1, 14]  1         0  models.common.Concat                    [1]                           \n",
            " 20                -1  1    296448  models.common.C3                        [256, 256, 1, False]          \n",
            " 21                -1  1    590336  models.common.Conv                      [256, 256, 3, 2]              \n",
            " 22          [-1, 10]  1         0  models.common.Concat                    [1]                           \n",
            " 23                -1  1   1182720  models.common.C3                        [512, 512, 1, False]          \n",
            " 24      [17, 20, 23]  1     16182  models.yolo.Detect                      [1, [[10, 13, 16, 30, 33, 23], [30, 61, 62, 45, 59, 119], [116, 90, 156, 198, 373, 326]], [128, 256, 512]]\n",
            "remote: Enumerating objects: 30, done.\u001b[K\n",
            "remote: Counting objects: 100% (22/22), done.\u001b[K\n",
            "remote: Total 30 (delta 22), reused 22 (delta 22), pack-reused 8\u001b[K\n",
            "Model Summary: 270 layers, 7022326 parameters, 7022326 gradients\n",
            "\n",
            "Unpacking objects: 100% (30/30), done.\n",
            "From https://github.com/ultralytics/yolov5\n",
            "   07221f1..c43f135  master     -> origin/master\n",
            "Scaled weight_decay = 0.0005\n",
            "\u001b[34m\u001b[1moptimizer:\u001b[0m Adam with parameter groups 57 weight (no decay), 60 weight, 60 bias\n",
            "\u001b[34m\u001b[1malbumentations: \u001b[0mversion 1.0.3 required by YOLOv5, but version 0.1.12 is currently installed\n",
            "\u001b[34m\u001b[1mtrain: \u001b[0mScanning '/content/drive/MyDrive/great_barrier_reef/train/labels.cache' images and labels... 3974 found, 0 missing, 0 empty, 0 corrupt: 100% 3974/3974 [00:00<?, ?it/s]\n",
            "\u001b[34m\u001b[1mval: \u001b[0mScanning '/content/drive/MyDrive/great_barrier_reef/valid/labels.cache' images and labels... 945 found, 0 missing, 0 empty, 0 corrupt: 100% 945/945 [00:00<?, ?it/s]\n",
            "Plotting labels to runs/train/exp31/labels.jpg... \n",
            "\n",
            "\u001b[34m\u001b[1mAutoAnchor: \u001b[0m6.23 anchors/target, 1.000 Best Possible Recall (BPR). Current anchors are a good fit to dataset ✅\n",
            "Image sizes 1440 train, 1440 val\n",
            "Using 2 dataloader workers\n",
            "Logging results to \u001b[1mruns/train/exp31\u001b[0m\n",
            "Starting training for 300 epochs...\n",
            "\n",
            "     Epoch   gpu_mem       box       obj       cls    labels  img_size\n",
            "     0/299     15.8G    0.0862   0.09635         0        41      1440: 100% 249/249 [26:18<00:00,  6.34s/it]\n",
            "               Class     Images     Labels          P          R     mAP@.5 mAP@.5:.95: 100% 30/30 [00:59<00:00,  1.97s/it]\n",
            "                 all        945       1309    0.00019     0.0405   9.74e-05   2.19e-05\n",
            "\n",
            "     Epoch   gpu_mem       box       obj       cls    labels  img_size\n",
            "     1/299     15.1G     0.082    0.1024         0       107      1440:  25% 63/249 [03:55<13:07,  4.24s/it]"
          ]
        }
      ],
      "source": [
        "!pip install PyYAML==5.4.1\n",
        "!python train.py --weights {MODEL} --img {DIM} --batch {BATCH} --epochs {EPOCHS} --cfg yolov5s.yaml --optimizer {OPTIMIZER} --data /content/drive/MyDrive/great_barrier_reef/yolov5/data/gbr_data.yaml --hyp /content/drive/MyDrive/great_barrier_reef/yolov5/data/hyps/gbr_hyps.yaml"
      ]
    },
    {
      "cell_type": "code",
      "execution_count": null,
      "metadata": {
        "colab": {
          "background_save": true,
          "base_uri": "https://localhost:8080/"
        },
        "id": "ZyWthBYTYlL8",
        "outputId": "c91d0954-3e81-4389-8e4f-c81de183edc1"
      },
      "outputs": [
        {
          "name": "stdout",
          "output_type": "stream",
          "text": [
            "Collecting PyYAML==5.4.1\n",
            "  Downloading PyYAML-5.4.1-cp37-cp37m-manylinux1_x86_64.whl (636 kB)\n",
            "\u001b[K     |████████████████████████████████| 636 kB 15.8 MB/s \n",
            "\u001b[?25hInstalling collected packages: PyYAML\n",
            "  Attempting uninstall: PyYAML\n",
            "    Found existing installation: PyYAML 3.13\n",
            "    Uninstalling PyYAML-3.13:\n",
            "      Successfully uninstalled PyYAML-3.13\n",
            "Successfully installed PyYAML-5.4.1\n",
            "Downloading https://ultralytics.com/assets/Arial.ttf to /root/.config/Ultralytics/Arial.ttf...\n",
            "\u001b[34m\u001b[1mtrain: \u001b[0mweights=yolov5s.pt, cfg=, data=data/coco128.yaml, hyp=data/hyps/hyp.scratch.yaml, epochs=300, batch_size=16, imgsz=640, rect=False, resume=True, nosave=False, noval=False, noautoanchor=False, evolve=None, bucket=, cache=None, image_weights=False, device=, multi_scale=False, single_cls=False, optimizer=SGD, sync_bn=False, workers=8, project=runs/train, name=exp, exist_ok=False, quad=False, linear_lr=False, label_smoothing=0.0, patience=100, freeze=[0], save_period=-1, local_rank=-1, entity=None, upload_dataset=False, bbox_interval=-1, artifact_alias=latest\n",
            "Command 'git fetch && git config --get remote.origin.url' timed out after 5 seconds\n",
            "Resuming training from ./runs/train/exp31/weights/last.pt\n",
            "YOLOv5 🚀 v6.0-248-gcb2ad9f torch 1.10.0+cu111 CUDA:0 (Tesla P100-PCIE-16GB, 16281MiB)\n",
            "\n",
            "\u001b[34m\u001b[1mhyperparameters: \u001b[0mlr0=0.01, lrf=0.1, momentum=0.937, weight_decay=0.0005, warmup_epochs=3.0, warmup_momentum=0.8, warmup_bias_lr=0.1, box=0.05, cls=0.5, cls_pw=1.0, obj=1.0, obj_pw=1.0, iou_t=0.2, anchor_t=4.0, anchors=0, fl_gamma=0.0, hsv_h=0.015, hsv_s=0.7, hsv_v=0.4, degrees=0.0, translate=0.1, scale=0.5, shear=0.0, perspective=0.0, flipud=0.5, fliplr=0.5, mosaic=1.0, mixup=0.5, copy_paste=0.0\n",
            "\u001b[34m\u001b[1mWeights & Biases: \u001b[0mrun 'pip install wandb' to automatically track and visualize YOLOv5 🚀 runs (RECOMMENDED)\n",
            "\u001b[34m\u001b[1mTensorBoard: \u001b[0mStart with 'tensorboard --logdir runs/train', view at http://localhost:6006/\n",
            "\n",
            "                 from  n    params  module                                  arguments                     \n",
            "  0                -1  1      3520  models.common.Conv                      [3, 32, 6, 2, 2]              \n",
            "  1                -1  1     18560  models.common.Conv                      [32, 64, 3, 2]                \n",
            "  2                -1  1     18816  models.common.C3                        [64, 64, 1]                   \n",
            "  3                -1  1     73984  models.common.Conv                      [64, 128, 3, 2]               \n",
            "  4                -1  2    115712  models.common.C3                        [128, 128, 2]                 \n",
            "  5                -1  1    295424  models.common.Conv                      [128, 256, 3, 2]              \n",
            "  6                -1  3    625152  models.common.C3                        [256, 256, 3]                 \n",
            "  7                -1  1   1180672  models.common.Conv                      [256, 512, 3, 2]              \n",
            "  8                -1  1   1182720  models.common.C3                        [512, 512, 1]                 \n",
            "  9                -1  1    656896  models.common.SPPF                      [512, 512, 5]                 \n",
            " 10                -1  1    131584  models.common.Conv                      [512, 256, 1, 1]              \n",
            " 11                -1  1         0  torch.nn.modules.upsampling.Upsample    [None, 2, 'nearest']          \n",
            " 12           [-1, 6]  1         0  models.common.Concat                    [1]                           \n",
            " 13                -1  1    361984  models.common.C3                        [512, 256, 1, False]          \n",
            " 14                -1  1     33024  models.common.Conv                      [256, 128, 1, 1]              \n",
            " 15                -1  1         0  torch.nn.modules.upsampling.Upsample    [None, 2, 'nearest']          \n",
            " 16           [-1, 4]  1         0  models.common.Concat                    [1]                           \n",
            " 17                -1  1     90880  models.common.C3                        [256, 128, 1, False]          \n",
            " 18                -1  1    147712  models.common.Conv                      [128, 128, 3, 2]              \n",
            " 19          [-1, 14]  1         0  models.common.Concat                    [1]                           \n",
            " 20                -1  1    296448  models.common.C3                        [256, 256, 1, False]          \n",
            " 21                -1  1    590336  models.common.Conv                      [256, 256, 3, 2]              \n",
            " 22          [-1, 10]  1         0  models.common.Concat                    [1]                           \n",
            " 23                -1  1   1182720  models.common.C3                        [512, 512, 1, False]          \n",
            " 24      [17, 20, 23]  1     16182  models.yolo.Detect                      [1, [[10, 13, 16, 30, 33, 23], [30, 61, 62, 45, 59, 119], [116, 90, 156, 198, 373, 326]], [128, 256, 512]]\n",
            "Model Summary: 270 layers, 7022326 parameters, 7022326 gradients\n",
            "\n",
            "Transferred 349/349 items from runs/train/exp31/weights/last.pt\n",
            "Scaled weight_decay = 0.0005\n",
            "\u001b[34m\u001b[1moptimizer:\u001b[0m Adam with parameter groups 57 weight (no decay), 60 weight, 60 bias\n",
            "\u001b[34m\u001b[1malbumentations: \u001b[0mversion 1.0.3 required by YOLOv5, but version 0.1.12 is currently installed\n",
            "\u001b[34m\u001b[1mtrain: \u001b[0mScanning '/content/drive/MyDrive/great_barrier_reef/train/labels.cache' images and labels... 3974 found, 0 missing, 0 empty, 0 corrupt: 100% 3974/3974 [00:00<?, ?it/s]\n",
            "\u001b[34m\u001b[1mval: \u001b[0mScanning '/content/drive/MyDrive/great_barrier_reef/valid/labels.cache' images and labels... 945 found, 0 missing, 0 empty, 0 corrupt: 100% 945/945 [00:00<?, ?it/s]\n",
            "Image sizes 1440 train, 1440 val\n",
            "Using 2 dataloader workers\n",
            "Logging results to \u001b[1mruns/train/exp31\u001b[0m\n",
            "Starting training for 300 epochs...\n",
            "\n",
            "     Epoch   gpu_mem       box       obj       cls    labels  img_size\n",
            "   263/299     15.8G    0.0421   0.05211         0        41      1440: 100% 249/249 [32:53<00:00,  7.92s/it]\n",
            "               Class     Images     Labels          P          R     mAP@.5 mAP@.5:.95: 100% 30/30 [00:40<00:00,  1.36s/it]\n",
            "                 all        945       1309      0.871      0.678      0.721      0.391\n",
            "\n",
            "     Epoch   gpu_mem       box       obj       cls    labels  img_size\n",
            "   264/299     15.1G   0.04423   0.05543         0        77      1440: 100% 249/249 [15:33<00:00,  3.75s/it]\n",
            "               Class     Images     Labels          P          R     mAP@.5 mAP@.5:.95: 100% 30/30 [00:40<00:00,  1.33s/it]\n",
            "                 all        945       1309      0.872      0.678      0.721      0.391\n",
            "\n",
            "     Epoch   gpu_mem       box       obj       cls    labels  img_size\n",
            "   265/299     15.1G   0.04405   0.05402         0        35      1440: 100% 249/249 [15:13<00:00,  3.67s/it]\n",
            "               Class     Images     Labels          P          R     mAP@.5 mAP@.5:.95: 100% 30/30 [00:39<00:00,  1.32s/it]\n",
            "                 all        945       1309      0.878      0.675       0.72      0.391\n",
            "\n",
            "     Epoch   gpu_mem       box       obj       cls    labels  img_size\n",
            "   266/299     15.1G   0.04417   0.05483         0        49      1440: 100% 249/249 [15:24<00:00,  3.71s/it]\n",
            "               Class     Images     Labels          P          R     mAP@.5 mAP@.5:.95: 100% 30/30 [00:37<00:00,  1.26s/it]\n",
            "                 all        945       1309      0.872      0.678       0.72       0.39\n",
            "\n",
            "     Epoch   gpu_mem       box       obj       cls    labels  img_size\n",
            "   267/299     15.1G   0.04501    0.0567         0        61      1440: 100% 249/249 [15:17<00:00,  3.68s/it]\n",
            "               Class     Images     Labels          P          R     mAP@.5 mAP@.5:.95: 100% 30/30 [00:39<00:00,  1.32s/it]\n",
            "                 all        945       1309      0.871      0.678      0.719       0.39\n",
            "\n",
            "     Epoch   gpu_mem       box       obj       cls    labels  img_size\n",
            "   268/299     15.1G     0.045   0.05667         0        29      1440: 100% 249/249 [15:26<00:00,  3.72s/it]\n",
            "               Class     Images     Labels          P          R     mAP@.5 mAP@.5:.95: 100% 30/30 [00:39<00:00,  1.32s/it]\n",
            "                 all        945       1309       0.92       0.65       0.72      0.391\n",
            "\n",
            "     Epoch   gpu_mem       box       obj       cls    labels  img_size\n",
            "   269/299     15.1G   0.04464   0.05466         0        55      1440: 100% 249/249 [15:10<00:00,  3.66s/it]\n",
            "               Class     Images     Labels          P          R     mAP@.5 mAP@.5:.95: 100% 30/30 [00:40<00:00,  1.34s/it]\n",
            "                 all        945       1309       0.92       0.65      0.719      0.391\n",
            "\n",
            "     Epoch   gpu_mem       box       obj       cls    labels  img_size\n",
            "   270/299     15.1G   0.04469   0.05427         0        27      1440: 100% 249/249 [15:21<00:00,  3.70s/it]\n",
            "               Class     Images     Labels          P          R     mAP@.5 mAP@.5:.95: 100% 30/30 [00:39<00:00,  1.33s/it]\n",
            "                 all        945       1309      0.886      0.668      0.719       0.39\n",
            "\n",
            "     Epoch   gpu_mem       box       obj       cls    labels  img_size\n",
            "   271/299     15.1G   0.04555   0.05669         0        17      1440: 100% 249/249 [15:24<00:00,  3.71s/it]\n",
            "               Class     Images     Labels          P          R     mAP@.5 mAP@.5:.95: 100% 30/30 [00:40<00:00,  1.35s/it]\n",
            "                 all        945       1309      0.886      0.668      0.718      0.391\n",
            "\n",
            "     Epoch   gpu_mem       box       obj       cls    labels  img_size\n",
            "   272/299     15.1G   0.04534   0.05571         0        46      1440: 100% 249/249 [15:17<00:00,  3.68s/it]\n",
            "               Class     Images     Labels          P          R     mAP@.5 mAP@.5:.95: 100% 30/30 [00:40<00:00,  1.36s/it]\n",
            "                 all        945       1309      0.886      0.668      0.718      0.391\n",
            "\n",
            "     Epoch   gpu_mem       box       obj       cls    labels  img_size\n",
            "   273/299     15.1G   0.04485    0.0564         0        37      1440: 100% 249/249 [15:16<00:00,  3.68s/it]\n",
            "               Class     Images     Labels          P          R     mAP@.5 mAP@.5:.95: 100% 30/30 [00:41<00:00,  1.39s/it]\n",
            "                 all        945       1309      0.882      0.671      0.717       0.39\n",
            "\n",
            "     Epoch   gpu_mem       box       obj       cls    labels  img_size\n",
            "   274/299     15.1G   0.04554    0.0573         0        68      1440: 100% 249/249 [15:37<00:00,  3.76s/it]\n",
            "               Class     Images     Labels          P          R     mAP@.5 mAP@.5:.95: 100% 30/30 [00:40<00:00,  1.36s/it]\n",
            "                 all        945       1309      0.907      0.658      0.717       0.39\n",
            "\n",
            "     Epoch   gpu_mem       box       obj       cls    labels  img_size\n",
            "   275/299     15.1G    0.0462    0.0579         0        22      1440: 100% 249/249 [15:30<00:00,  3.74s/it]\n",
            "               Class     Images     Labels          P          R     mAP@.5 mAP@.5:.95: 100% 30/30 [00:40<00:00,  1.35s/it]\n",
            "                 all        945       1309      0.883      0.671      0.717      0.389\n",
            "\n",
            "     Epoch   gpu_mem       box       obj       cls    labels  img_size\n",
            "   276/299     15.1G   0.04564   0.05563         0        24      1440: 100% 249/249 [15:33<00:00,  3.75s/it]\n",
            "               Class     Images     Labels          P          R     mAP@.5 mAP@.5:.95: 100% 30/30 [00:43<00:00,  1.44s/it]\n",
            "                 all        945       1309      0.901       0.66      0.717      0.389\n",
            "\n",
            "     Epoch   gpu_mem       box       obj       cls    labels  img_size\n",
            "   277/299     15.1G   0.04565   0.05552         0        32      1440: 100% 249/249 [15:48<00:00,  3.81s/it]\n",
            "               Class     Images     Labels          P          R     mAP@.5 mAP@.5:.95: 100% 30/30 [00:42<00:00,  1.41s/it]\n",
            "                 all        945       1309      0.882       0.67      0.716       0.39\n",
            "\n",
            "     Epoch   gpu_mem       box       obj       cls    labels  img_size\n",
            "   278/299     15.1G   0.04559   0.05679         0        48      1440: 100% 249/249 [15:31<00:00,  3.74s/it]\n",
            "               Class     Images     Labels          P          R     mAP@.5 mAP@.5:.95: 100% 30/30 [00:39<00:00,  1.32s/it]\n",
            "                 all        945       1309      0.882      0.671      0.716      0.389\n",
            "\n",
            "     Epoch   gpu_mem       box       obj       cls    labels  img_size\n",
            "   279/299     15.1G   0.04538   0.05683         0        37      1440: 100% 249/249 [15:39<00:00,  3.77s/it]\n",
            "               Class     Images     Labels          P          R     mAP@.5 mAP@.5:.95: 100% 30/30 [00:44<00:00,  1.48s/it]\n",
            "                 all        945       1309      0.882      0.671      0.717       0.39\n",
            "\n",
            "     Epoch   gpu_mem       box       obj       cls    labels  img_size\n",
            "   280/299     15.1G   0.04538   0.05721         0        44      1440: 100% 249/249 [15:42<00:00,  3.79s/it]\n",
            "               Class     Images     Labels          P          R     mAP@.5 mAP@.5:.95: 100% 30/30 [00:37<00:00,  1.26s/it]\n",
            "                 all        945       1309      0.882      0.671      0.716       0.39\n",
            "\n",
            "     Epoch   gpu_mem       box       obj       cls    labels  img_size\n",
            "   281/299     15.1G   0.04503   0.05638         0        30      1440: 100% 249/249 [15:36<00:00,  3.76s/it]\n",
            "               Class     Images     Labels          P          R     mAP@.5 mAP@.5:.95: 100% 30/30 [00:39<00:00,  1.30s/it]\n",
            "                 all        945       1309      0.904      0.662      0.716      0.389\n",
            "\n",
            "     Epoch   gpu_mem       box       obj       cls    labels  img_size\n",
            "   282/299     15.1G   0.04573   0.05729         0        43      1440: 100% 249/249 [15:24<00:00,  3.71s/it]\n",
            "               Class     Images     Labels          P          R     mAP@.5 mAP@.5:.95: 100% 30/30 [00:40<00:00,  1.34s/it]\n",
            "                 all        945       1309      0.903      0.661      0.716       0.39\n",
            "\n",
            "     Epoch   gpu_mem       box       obj       cls    labels  img_size\n",
            "   283/299     15.1G   0.04545   0.05645         0        43      1440: 100% 249/249 [15:13<00:00,  3.67s/it]\n",
            "               Class     Images     Labels          P          R     mAP@.5 mAP@.5:.95: 100% 30/30 [00:40<00:00,  1.34s/it]\n",
            "                 all        945       1309      0.904      0.662      0.716      0.391\n",
            "\n",
            "     Epoch   gpu_mem       box       obj       cls    labels  img_size\n",
            "   284/299     15.1G   0.04548   0.05587         0        35      1440: 100% 249/249 [15:12<00:00,  3.67s/it]\n",
            "               Class     Images     Labels          P          R     mAP@.5 mAP@.5:.95: 100% 30/30 [00:38<00:00,  1.28s/it]\n",
            "                 all        945       1309      0.902      0.662      0.716      0.391\n",
            "\n",
            "     Epoch   gpu_mem       box       obj       cls    labels  img_size\n",
            "   285/299     15.1G   0.04509   0.05614         0        33      1440: 100% 249/249 [15:18<00:00,  3.69s/it]\n",
            "               Class     Images     Labels          P          R     mAP@.5 mAP@.5:.95: 100% 30/30 [00:39<00:00,  1.32s/it]\n",
            "                 all        945       1309      0.901      0.662      0.715      0.391\n",
            "\n",
            "     Epoch   gpu_mem       box       obj       cls    labels  img_size\n",
            "   286/299     15.1G   0.04521   0.05556         0        47      1440: 100% 249/249 [15:19<00:00,  3.69s/it]\n",
            "               Class     Images     Labels          P          R     mAP@.5 mAP@.5:.95: 100% 30/30 [00:40<00:00,  1.36s/it]\n",
            "                 all        945       1309      0.904      0.662      0.716      0.391\n",
            "\n",
            "     Epoch   gpu_mem       box       obj       cls    labels  img_size\n",
            "   287/299     15.1G   0.04525   0.05737         0        34      1440: 100% 249/249 [15:23<00:00,  3.71s/it]\n",
            "               Class     Images     Labels          P          R     mAP@.5 mAP@.5:.95: 100% 30/30 [00:39<00:00,  1.31s/it]\n",
            "                 all        945       1309      0.903      0.661      0.715      0.391\n",
            "\n",
            "     Epoch   gpu_mem       box       obj       cls    labels  img_size\n",
            "   288/299     15.1G   0.04524   0.05489         0        43      1440: 100% 249/249 [15:20<00:00,  3.70s/it]\n",
            "               Class     Images     Labels          P          R     mAP@.5 mAP@.5:.95: 100% 30/30 [00:41<00:00,  1.39s/it]\n",
            "                 all        945       1309      0.895      0.666      0.716      0.391\n",
            "\n",
            "     Epoch   gpu_mem       box       obj       cls    labels  img_size\n",
            "   289/299     15.1G   0.04509   0.05566         0        64      1440: 100% 249/249 [15:18<00:00,  3.69s/it]\n",
            "               Class     Images     Labels          P          R     mAP@.5 mAP@.5:.95: 100% 30/30 [00:38<00:00,  1.30s/it]\n",
            "                 all        945       1309      0.903      0.662      0.716      0.391\n",
            "\n",
            "     Epoch   gpu_mem       box       obj       cls    labels  img_size\n",
            "   290/299     15.1G   0.04507   0.05613         0        30      1440: 100% 249/249 [15:21<00:00,  3.70s/it]\n",
            "               Class     Images     Labels          P          R     mAP@.5 mAP@.5:.95: 100% 30/30 [00:38<00:00,  1.27s/it]\n",
            "                 all        945       1309      0.903      0.662      0.717      0.391\n",
            "\n",
            "     Epoch   gpu_mem       box       obj       cls    labels  img_size\n",
            "   291/299     15.1G   0.04546   0.05658         0        64      1440: 100% 249/249 [15:21<00:00,  3.70s/it]\n",
            "               Class     Images     Labels          P          R     mAP@.5 mAP@.5:.95: 100% 30/30 [00:40<00:00,  1.36s/it]\n",
            "                 all        945       1309      0.903      0.663      0.718      0.392\n",
            "\n",
            "     Epoch   gpu_mem       box       obj       cls    labels  img_size\n",
            "   292/299     15.1G   0.04531   0.05742         0        54      1440: 100% 249/249 [15:27<00:00,  3.72s/it]\n",
            "               Class     Images     Labels          P          R     mAP@.5 mAP@.5:.95: 100% 30/30 [00:40<00:00,  1.36s/it]\n",
            "                 all        945       1309      0.903      0.663      0.718      0.391\n",
            "\n",
            "     Epoch   gpu_mem       box       obj       cls    labels  img_size\n",
            "   293/299     15.1G   0.04522   0.05651         0        44      1440: 100% 249/249 [15:26<00:00,  3.72s/it]\n",
            "               Class     Images     Labels          P          R     mAP@.5 mAP@.5:.95: 100% 30/30 [00:39<00:00,  1.30s/it]\n",
            "                 all        945       1309      0.902      0.663      0.718      0.392\n",
            "\n",
            "     Epoch   gpu_mem       box       obj       cls    labels  img_size\n",
            "   294/299     15.1G   0.04525   0.05769         0        43      1440: 100% 249/249 [15:29<00:00,  3.73s/it]\n",
            "               Class     Images     Labels          P          R     mAP@.5 mAP@.5:.95: 100% 30/30 [00:41<00:00,  1.38s/it]\n",
            "                 all        945       1309      0.902      0.664      0.718      0.392\n",
            "\n",
            "     Epoch   gpu_mem       box       obj       cls    labels  img_size\n",
            "   295/299     15.1G   0.04495   0.05568         0        20      1440: 100% 249/249 [15:20<00:00,  3.70s/it]\n",
            "               Class     Images     Labels          P          R     mAP@.5 mAP@.5:.95: 100% 30/30 [00:40<00:00,  1.34s/it]\n",
            "                 all        945       1309      0.903      0.664      0.718      0.391\n",
            "\n",
            "     Epoch   gpu_mem       box       obj       cls    labels  img_size\n",
            "   296/299     15.1G   0.04503   0.05602         0        38      1440: 100% 249/249 [15:27<00:00,  3.72s/it]\n",
            "               Class     Images     Labels          P          R     mAP@.5 mAP@.5:.95: 100% 30/30 [00:38<00:00,  1.30s/it]\n",
            "                 all        945       1309      0.904      0.665      0.717      0.391\n",
            "\n",
            "     Epoch   gpu_mem       box       obj       cls    labels  img_size\n",
            "   297/299     15.1G   0.04525   0.05542         0        37      1440: 100% 249/249 [15:19<00:00,  3.69s/it]\n",
            "               Class     Images     Labels          P          R     mAP@.5 mAP@.5:.95: 100% 30/30 [00:36<00:00,  1.23s/it]\n",
            "                 all        945       1309      0.904      0.664      0.718      0.391\n",
            "\n",
            "     Epoch   gpu_mem       box       obj       cls    labels  img_size\n",
            "   298/299     15.1G   0.04497   0.05525         0        49      1440: 100% 249/249 [15:20<00:00,  3.70s/it]\n",
            "               Class     Images     Labels          P          R     mAP@.5 mAP@.5:.95: 100% 30/30 [00:38<00:00,  1.29s/it]\n",
            "                 all        945       1309      0.904      0.664      0.718      0.392\n",
            "\n",
            "     Epoch   gpu_mem       box       obj       cls    labels  img_size\n",
            "   299/299     15.1G   0.04462   0.05022         0       118      1440:   6% 14/249 [00:42<12:54,  3.30s/it]"
          ]
        }
      ],
      "source": [
        "!pip install PyYAML==5.4.1\n",
        "!python train.py --resume"
      ]
    },
    {
      "cell_type": "code",
      "execution_count": null,
      "metadata": {
        "id": "lmPCEcZNp2vp"
      },
      "outputs": [],
      "source": [
        "%load_ext tensorboard\n",
        "%tensorboard --logdir runs"
      ]
    },
    {
      "cell_type": "code",
      "execution_count": null,
      "metadata": {
        "id": "42quweQ2qQhp"
      },
      "outputs": [],
      "source": [
        "!python detect.py --source /content/drive/MyDrive/great_barrier_reef/valid/images --weights /content/drive/MyDrive/great_barrier_reef/yolov5/runs/train/exp17/weights/best.pt --data /content/drive/MyDrive/great_barrier_reef/yolov5/data/gbr_data.yaml --img 1280 --save-txt --save-conf"
      ]
    },
    {
      "cell_type": "code",
      "source": [
        ""
      ],
      "metadata": {
        "id": "7EJ1RKy8TM4A"
      },
      "execution_count": null,
      "outputs": []
    }
  ],
  "metadata": {
    "accelerator": "GPU",
    "colab": {
      "collapsed_sections": [],
      "name": "GBR-training.ipynb",
      "provenance": [],
      "authorship_tag": "ABX9TyNmTv+4A+IB/0EZuEFvGU+4",
      "include_colab_link": true
    },
    "kernelspec": {
      "display_name": "Python 3",
      "name": "python3"
    },
    "language_info": {
      "name": "python"
    }
  },
  "nbformat": 4,
  "nbformat_minor": 0
}